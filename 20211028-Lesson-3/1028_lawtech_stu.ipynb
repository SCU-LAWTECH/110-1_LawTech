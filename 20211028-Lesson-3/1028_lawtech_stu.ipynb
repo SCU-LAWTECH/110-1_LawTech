{
 "cells": [
  {
   "cell_type": "markdown",
   "metadata": {},
   "source": [
    "# IF"
   ]
  },
  {
   "cell_type": "code",
   "execution_count": null,
   "metadata": {},
   "outputs": [],
   "source": [
    "#if else\n",
    "a = 13\n",
    "if a == 10:\n",
    "    print(\"Ten\")\n",
    "else:\n",
    "    print(\"Not Ten\")\n"
   ]
  },
  {
   "cell_type": "code",
   "execution_count": null,
   "metadata": {},
   "outputs": [],
   "source": [
    "#elif\n",
    "b = 78\n",
    "if b > 15:\n",
    "    print(\"Bigger\")\n",
    "elif b == 15:\n",
    "    print(\"Equal\")\n",
    "else:\n",
    "    print(\"Smaller\")\n"
   ]
  },
  {
   "cell_type": "code",
   "execution_count": null,
   "metadata": {},
   "outputs": [],
   "source": [
    "#input複習\n",
    "inin = input(\"測試測試\")\n",
    "print(inin)\n",
    "print(type(inin))\n",
    "inin = int(inin)\n",
    "print(type(inin))"
   ]
  },
  {
   "cell_type": "code",
   "execution_count": null,
   "metadata": {},
   "outputs": [],
   "source": [
    "#If練習"
   ]
  },
  {
   "cell_type": "markdown",
   "metadata": {},
   "source": [
    "# For"
   ]
  },
  {
   "cell_type": "code",
   "execution_count": null,
   "metadata": {},
   "outputs": [],
   "source": [
    "#for in list\n",
    "for i in [1,2,3,4]:\n",
    "    print(i)"
   ]
  },
  {
   "cell_type": "code",
   "execution_count": null,
   "metadata": {},
   "outputs": [],
   "source": [
    "#for in string\n",
    "for e in \"ABCD\":\n",
    "    print(e)"
   ]
  },
  {
   "cell_type": "code",
   "execution_count": null,
   "metadata": {},
   "outputs": [],
   "source": [
    "#range\n",
    "for f in range(1,11,2):\n",
    "    print(f)"
   ]
  },
  {
   "cell_type": "code",
   "execution_count": null,
   "metadata": {},
   "outputs": [],
   "source": [
    "#range預設 print end\n",
    "for g in range(10):\n",
    "    print(g,end=\" \")"
   ]
  },
  {
   "cell_type": "code",
   "execution_count": null,
   "metadata": {},
   "outputs": [],
   "source": [
    "#巢狀迴圈\n",
    "for h in range(0,10):\n",
    "    print(h,end=\" \")\n",
    "    for j in [\"A\",\"B\",\"C\",\"D\"]:\n",
    "        print(j,end=\" \")\n",
    "    print(\"\")"
   ]
  },
  {
   "cell_type": "code",
   "execution_count": null,
   "metadata": {},
   "outputs": [],
   "source": [
    "#break\n",
    "for q in range(81,100,2):\n",
    "    if q == 87:\n",
    "        break\n",
    "    else:\n",
    "        print(q)"
   ]
  },
  {
   "cell_type": "code",
   "execution_count": null,
   "metadata": {},
   "outputs": [],
   "source": [
    "#coontinue\n",
    "for q in range(81,100,2):\n",
    "    if q == 87:\n",
    "        continue\n",
    "        print(\"continue\")\n",
    "    else:\n",
    "        print(q)"
   ]
  },
  {
   "cell_type": "code",
   "execution_count": null,
   "metadata": {},
   "outputs": [],
   "source": [
    "#pass\n",
    "for q in range(81,100,2):\n",
    "    if q == 87:\n",
    "        pass\n",
    "        print(\"pass\")\n",
    "    else:\n",
    "        print(q)"
   ]
  },
  {
   "cell_type": "code",
   "execution_count": null,
   "metadata": {},
   "outputs": [],
   "source": [
    "#for練習"
   ]
  },
  {
   "cell_type": "markdown",
   "metadata": {},
   "source": [
    "# While"
   ]
  },
  {
   "cell_type": "code",
   "execution_count": null,
   "metadata": {},
   "outputs": [],
   "source": [
    "#while\n",
    "num = 0\n",
    "while num < 10:\n",
    "    print(num)\n",
    "    num = num + 3"
   ]
  },
  {
   "cell_type": "code",
   "execution_count": null,
   "metadata": {},
   "outputs": [],
   "source": [
    "#無限迴圈\n",
    "while 1 > 0:\n",
    "    print(\"Bad\")"
   ]
  },
  {
   "cell_type": "code",
   "execution_count": null,
   "metadata": {},
   "outputs": [],
   "source": [
    "#error處理try\n",
    "c = input(\"請輸入成績\")\n",
    "gate = True\n",
    "while gate:\n",
    "    try:\n",
    "        c = int(c)\n",
    "        gate = False\n",
    "    except:\n",
    "        print(\"輸入整數!!!\")\n",
    "        c = input(\"請輸入成績\")\n",
    "if c > 100:\n",
    "    print(\"超過一百分\")\n",
    "elif c >= 60:\n",
    "    print(\"及格\")\n",
    "elif c >= 50:\n",
    "    print(\"要補考\")\n",
    "else:\n",
    "    print(\"暑修見\")\n"
   ]
  },
  {
   "cell_type": "code",
   "execution_count": null,
   "metadata": {},
   "outputs": [],
   "source": [
    "#練習"
   ]
  },
  {
   "cell_type": "markdown",
   "metadata": {},
   "source": [
    "# Basic Function"
   ]
  },
  {
   "cell_type": "code",
   "execution_count": null,
   "metadata": {},
   "outputs": [],
   "source": [
    "#format\n",
    "a = \"123{}56{}\".format(4,7)\n",
    "print(a)"
   ]
  },
  {
   "cell_type": "code",
   "execution_count": null,
   "metadata": {},
   "outputs": [],
   "source": [
    "#%\n",
    "#%s 是以字串輸出，%f 是以浮點數輸出、%d 是以十進位整數輸出\n",
    "a = \"123%s56%d\"%(\"四\",7)\n",
    "print(a)"
   ]
  },
  {
   "cell_type": "code",
   "execution_count": null,
   "metadata": {},
   "outputs": [],
   "source": [
    "#import\n",
    "import random as rd"
   ]
  },
  {
   "cell_type": "code",
   "execution_count": null,
   "metadata": {},
   "outputs": [],
   "source": [
    "#random\n",
    "print(rd.randint(1,10))\n",
    "print(rd.choice(\"lawtech\"))\n",
    "print(rd.choice([1,2,\"3\",4,5]))"
   ]
  },
  {
   "cell_type": "code",
   "execution_count": null,
   "metadata": {},
   "outputs": [],
   "source": [
    "#zip\n",
    "a = [1,2,3]\n",
    "b = [\"1\",\"2\",\"3\"]\n",
    "c = [\"one\",\"two\",\"three\"]\n",
    "d = zip(a,b,c)\n",
    "print(type(d))\n",
    "e = list(d)\n",
    "print(e)\n",
    "f = zip(e[0],e[1],e[2])\n",
    "print(list(f))"
   ]
  },
  {
   "cell_type": "code",
   "execution_count": null,
   "metadata": {},
   "outputs": [],
   "source": [
    "#enumerate\n",
    "a = [\"one\",\"two\",\"three\"]\n",
    "b = enumerate(a)\n",
    "c = enumerate(a,start=1)\n",
    "print(type(b))\n",
    "print(list(b))\n",
    "print(list(c))\n",
    "for i in enumerate(a):\n",
    "    print(i)\n",
    "for e,f in enumerate(a):\n",
    "    print(e,f)"
   ]
  },
  {
   "cell_type": "markdown",
   "metadata": {},
   "source": [
    "# HW"
   ]
  },
  {
   "cell_type": "code",
   "execution_count": null,
   "metadata": {},
   "outputs": [],
   "source": [
    "#HW"
   ]
  }
 ],
 "metadata": {
  "kernelspec": {
   "display_name": "Python 3",
   "language": "python",
   "name": "python3"
  },
  "language_info": {
   "codemirror_mode": {
    "name": "ipython",
    "version": 3
   },
   "file_extension": ".py",
   "mimetype": "text/x-python",
   "name": "python",
   "nbconvert_exporter": "python",
   "pygments_lexer": "ipython3",
   "version": "3.8.3"
  }
 },
 "nbformat": 4,
 "nbformat_minor": 4
}

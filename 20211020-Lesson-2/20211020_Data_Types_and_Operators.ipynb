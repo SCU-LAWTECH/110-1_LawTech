{
 "cells": [
  {
   "cell_type": "markdown",
   "metadata": {},
   "source": [
    "## Data Type ([Python Documentation of Data Structure](https://docs.python.org/3/tutorial/datastructures.html?highlight=dictionary))\n",
    "* ### Tuple"
   ]
  },
  {
   "cell_type": "code",
   "execution_count": 1,
   "metadata": {},
   "outputs": [
    {
     "name": "stdout",
     "output_type": "stream",
     "text": [
      "Way 1 : ()\n",
      "Way 2 : (1, 2, 3)\n",
      "Way 3 : (1, 2, 3)\n",
      "Way 4 : (1, 2)\n"
     ]
    }
   ],
   "source": [
    "# Generate a tuple\n",
    "way1 = tuple() \n",
    "way2 = (1,2,3)\n",
    "way3 = 1,2,3\n",
    "way4 = way3[0],way2[1]\n",
    "\n",
    "print('Way 1 :',way1)\n",
    "print('Way 2 :',way2)\n",
    "print('Way 3 :',way3)\n",
    "print('Way 4 :',way4)"
   ]
  },
  {
   "cell_type": "code",
   "execution_count": 2,
   "metadata": {},
   "outputs": [
    {
     "name": "stdout",
     "output_type": "stream",
     "text": [
      "Number 1 : 1\n",
      "Number 2 : 2\n",
      "Number 3 : 3\n"
     ]
    }
   ],
   "source": [
    "# Unpacking a tuple\n",
    "num1,num2,num3 = way3\n",
    "print('Number 1 :',num1)\n",
    "print('Number 2 :',num2)\n",
    "print('Number 3 :',num3)"
   ]
  },
  {
   "cell_type": "code",
   "execution_count": 3,
   "metadata": {},
   "outputs": [
    {
     "name": "stdout",
     "output_type": "stream",
     "text": [
      "(1, 2, 3, 4, 5, 6)\n"
     ]
    }
   ],
   "source": [
    "### Challenge\n",
    "x = (1,2,3)\n",
    "y = (4,5,6)\n",
    "z = x+y\n",
    "print(z)"
   ]
  },
  {
   "cell_type": "markdown",
   "metadata": {},
   "source": [
    "* ### List"
   ]
  },
  {
   "cell_type": "code",
   "execution_count": 4,
   "metadata": {},
   "outputs": [
    {
     "name": "stdout",
     "output_type": "stream",
     "text": [
      "Way 1 : []\n",
      "Way 2 : [1, 2, 3]\n"
     ]
    }
   ],
   "source": [
    "# Generate a List\n",
    "way1 = list()\n",
    "way2 = [1,2,3]\n",
    "\n",
    "print('Way 1 :',way1)\n",
    "print('Way 2 :',way2)"
   ]
  },
  {
   "cell_type": "code",
   "execution_count": 5,
   "metadata": {},
   "outputs": [
    {
     "name": "stdout",
     "output_type": "stream",
     "text": [
      "What would it happen when a list to be execute in a list function :  [1, 2, 3]\n"
     ]
    }
   ],
   "source": [
    "### Challenge\n",
    "x = list([1,2,3])\n",
    "print('What would it happen when a list to be execute in a list function : ',x)"
   ]
  },
  {
   "cell_type": "code",
   "execution_count": 6,
   "metadata": {},
   "outputs": [
    {
     "name": "stdout",
     "output_type": "stream",
     "text": [
      "Number 1 : 1\n",
      "Number 2 : 2\n",
      "Number 3 : 3\n"
     ]
    }
   ],
   "source": [
    "# Unpacking a list\n",
    "num1,num2,num3 = way2\n",
    "print('Number 1 :',num1)\n",
    "print('Number 2 :',num2)\n",
    "print('Number 3 :',num3)"
   ]
  },
  {
   "cell_type": "markdown",
   "metadata": {},
   "source": [
    "### The way to add an item and an object to the list\n",
    "---\n",
    "* append\n",
    "* extend\n",
    "* insert\n",
    "* Symbol: add"
   ]
  },
  {
   "cell_type": "code",
   "execution_count": 7,
   "metadata": {},
   "outputs": [
    {
     "name": "stdout",
     "output_type": "stream",
     "text": [
      "Current List After Append:  [1, 2, 3, 1]\n"
     ]
    }
   ],
   "source": [
    "# append(AN ITEM)\n",
    "x = [1,2,3]\n",
    "x.append(1)\n",
    "print('Current List After Append: ',x)"
   ]
  },
  {
   "cell_type": "code",
   "execution_count": 8,
   "metadata": {},
   "outputs": [
    {
     "name": "stdout",
     "output_type": "stream",
     "text": [
      "What would happen if we append a list to an append function :  [1, 2, 3, [1, 1, 1]]\n",
      "What would happen if we append a dictionary to an append function :  [1, 2, 3, [1, 1, 1], {'key': 'value'}]\n"
     ]
    }
   ],
   "source": [
    "### Challenge\n",
    "x = [1,2,3]\n",
    "x.append([1,1,1])\n",
    "print('What would happen if we append a list to an append function : ',x)\n",
    "\n",
    "x.append({'key' : 'value'})\n",
    "print('What would happen if we append a dictionary to an append function : ',x)"
   ]
  },
  {
   "cell_type": "code",
   "execution_count": 9,
   "metadata": {},
   "outputs": [
    {
     "name": "stdout",
     "output_type": "stream",
     "text": [
      "Current List After Extend:  [1, 2, 3, 1, 2, 3]\n"
     ]
    }
   ],
   "source": [
    "# extend(LIST)\n",
    "x = [1,2,3]\n",
    "x.extend([1,2,3])\n",
    "print('Current List After Extend: ',x)"
   ]
  },
  {
   "cell_type": "code",
   "execution_count": 11,
   "metadata": {},
   "outputs": [
    {
     "name": "stdout",
     "output_type": "stream",
     "text": [
      "What would happen if we extend an item to an extend function :  [1, 2, 3, 1, 2, 3, 'key']\n"
     ]
    }
   ],
   "source": [
    "### Challenge\n",
    "# x.extend(1)\n",
    "# print('What would happen if we extend an item to an extend function : ',x)\n",
    "\n",
    "x.extend({'key' : 'value'}) \n",
    "print('What would happen if we extend an item to an extend function : ',x)"
   ]
  },
  {
   "cell_type": "code",
   "execution_count": 12,
   "metadata": {},
   "outputs": [
    {
     "name": "stdout",
     "output_type": "stream",
     "text": [
      "What would happen if we append an item to an append function :  [1, 2, 3, 1, 2, 3, 'key', [1, 2, 3]]\n",
      "What would happen if we extend an item to an extend function :  [1, 2, 3, 1, 2, 3, 'key', [1, 2, 3], 1, 2, 3]\n"
     ]
    }
   ],
   "source": [
    "### Challenge # [1, 2, 3, [1, 2, 3], 1, 2, 3]\n",
    "x.append([1,2,3]) # [1, 2, 3, [1, 2, 3], 1, 2, 3,[1,2,3]]\n",
    "print('What would happen if we append an item to an append function : ',x)\n",
    "\n",
    "x.extend([1,2,3]) # [1, 2, 3, [1, 2, 3], 1, 2, 3,[1,2,3],1,2,3]\n",
    "print('What would happen if we extend an item to an extend function : ',x)"
   ]
  },
  {
   "cell_type": "code",
   "execution_count": 13,
   "metadata": {},
   "outputs": [
    {
     "name": "stdout",
     "output_type": "stream",
     "text": [
      "Current List After Insert:  ['HERE', 1, 2, 3]\n",
      "Current List After Insert:  [{'key': 'value'}, 'HERE', 1, 2, 3]\n"
     ]
    }
   ],
   "source": [
    "# insert(INDEX,OBJECT)\n",
    "x = [1,2,3]\n",
    "x.insert(0,'HERE') \n",
    "print('Current List After Insert: ',x)\n",
    "\n",
    "x.insert(0,{'key' : 'value'}) \n",
    "print('Current List After Insert: ',x)"
   ]
  },
  {
   "cell_type": "code",
   "execution_count": 14,
   "metadata": {},
   "outputs": [
    {
     "name": "stdout",
     "output_type": "stream",
     "text": [
      "What would happen if we insert an item :  [1, 2, 3, 'hi']\n"
     ]
    }
   ],
   "source": [
    "### Challenge\n",
    "x = [1,2,3]\n",
    "x.insert(100,'hi')\n",
    "print('What would happen if we insert an item : ',x)"
   ]
  },
  {
   "cell_type": "code",
   "execution_count": 15,
   "metadata": {},
   "outputs": [
    {
     "name": "stdout",
     "output_type": "stream",
     "text": [
      "Current List After Add:  [1, 2, 3, 4, 5, 6]\n"
     ]
    }
   ],
   "source": [
    "# Add\n",
    "x = [1,2,3]\n",
    "y = [4,5,6]\n",
    "z = x + y\n",
    "print('Current List After Add: ',z)"
   ]
  },
  {
   "cell_type": "code",
   "execution_count": 16,
   "metadata": {},
   "outputs": [
    {
     "ename": "TypeError",
     "evalue": "unsupported operand type(s) for +: 'dict' and 'dict'",
     "output_type": "error",
     "traceback": [
      "\u001b[1;31m---------------------------------------------------------------------------\u001b[0m",
      "\u001b[1;31mTypeError\u001b[0m                                 Traceback (most recent call last)",
      "\u001b[1;32m<ipython-input-16-ca823c79dd97>\u001b[0m in \u001b[0;36m<module>\u001b[1;34m\u001b[0m\n\u001b[0;32m      2\u001b[0m \u001b[0mx\u001b[0m \u001b[1;33m=\u001b[0m \u001b[1;33m{\u001b[0m\u001b[1;34m'key'\u001b[0m\u001b[1;33m:\u001b[0m\u001b[1;36m1\u001b[0m\u001b[1;33m}\u001b[0m\u001b[1;33m\u001b[0m\u001b[1;33m\u001b[0m\u001b[0m\n\u001b[0;32m      3\u001b[0m \u001b[0my\u001b[0m \u001b[1;33m=\u001b[0m \u001b[1;33m{\u001b[0m\u001b[1;34m'key'\u001b[0m\u001b[1;33m:\u001b[0m\u001b[1;36m1\u001b[0m\u001b[1;33m}\u001b[0m\u001b[1;33m\u001b[0m\u001b[1;33m\u001b[0m\u001b[0m\n\u001b[1;32m----> 4\u001b[1;33m \u001b[0mz\u001b[0m \u001b[1;33m=\u001b[0m \u001b[0mx\u001b[0m \u001b[1;33m+\u001b[0m \u001b[0my\u001b[0m\u001b[1;33m\u001b[0m\u001b[1;33m\u001b[0m\u001b[0m\n\u001b[0m\u001b[0;32m      5\u001b[0m \u001b[0mprint\u001b[0m\u001b[1;33m(\u001b[0m\u001b[0mz\u001b[0m\u001b[1;33m)\u001b[0m\u001b[1;33m\u001b[0m\u001b[1;33m\u001b[0m\u001b[0m\n",
      "\u001b[1;31mTypeError\u001b[0m: unsupported operand type(s) for +: 'dict' and 'dict'"
     ]
    }
   ],
   "source": [
    "### Challenge\n",
    "x = {'key':1}\n",
    "y = {'key':1}\n",
    "z = x + y\n",
    "print(z) "
   ]
  },
  {
   "cell_type": "markdown",
   "metadata": {},
   "source": [
    "### The way to delete an object and an item in the list\n",
    "---\n",
    "* remove\n",
    "* pop\n",
    "* clear\n",
    "* function: del"
   ]
  },
  {
   "cell_type": "code",
   "execution_count": 17,
   "metadata": {},
   "outputs": [
    {
     "name": "stdout",
     "output_type": "stream",
     "text": [
      "Current List After Remove:  [1, {'key': 'value'}]\n",
      "Current List After Remove:  [1]\n"
     ]
    }
   ],
   "source": [
    "# remove(EXIST OBJECT / ITEM IN LIST)\n",
    "# *** Only remove the first item\n",
    "x = [1,2,{'key':'value'}]\n",
    "x.remove(2)\n",
    "print('Current List After Remove: ',x)\n",
    "\n",
    "x.remove({'key':'value'})\n",
    "print('Current List After Remove: ',x)"
   ]
  },
  {
   "cell_type": "code",
   "execution_count": 18,
   "metadata": {},
   "outputs": [
    {
     "name": "stdout",
     "output_type": "stream",
     "text": [
      "Current List After Pop:  [1, 2]\n",
      "Current List After Pop:  [1]\n"
     ]
    }
   ],
   "source": [
    "# pop(EMPTY / SPECIFIC INDEX)\n",
    "x = [1,2,{'key':'value'}]\n",
    "x.pop() # Last Item\n",
    "print('Current List After Pop: ',x)\n",
    "\n",
    "x.pop(1) # Specific Index\n",
    "print('Current List After Pop: ',x)"
   ]
  },
  {
   "cell_type": "code",
   "execution_count": 20,
   "metadata": {},
   "outputs": [
    {
     "ename": "TypeError",
     "evalue": "'list' object cannot be interpreted as an integer",
     "output_type": "error",
     "traceback": [
      "\u001b[1;31m---------------------------------------------------------------------------\u001b[0m",
      "\u001b[1;31mTypeError\u001b[0m                                 Traceback (most recent call last)",
      "\u001b[1;32m<ipython-input-20-cbfd4b485a62>\u001b[0m in \u001b[0;36m<module>\u001b[1;34m\u001b[0m\n\u001b[0;32m      1\u001b[0m \u001b[1;31m### Challenge\u001b[0m\u001b[1;33m\u001b[0m\u001b[1;33m\u001b[0m\u001b[1;33m\u001b[0m\u001b[0m\n\u001b[1;32m----> 2\u001b[1;33m \u001b[0mx\u001b[0m\u001b[1;33m.\u001b[0m\u001b[0mpop\u001b[0m\u001b[1;33m(\u001b[0m\u001b[0mx\u001b[0m\u001b[1;33m[\u001b[0m\u001b[1;36m0\u001b[0m\u001b[1;33m:\u001b[0m\u001b[1;36m2\u001b[0m\u001b[1;33m]\u001b[0m\u001b[1;33m)\u001b[0m\u001b[1;33m\u001b[0m\u001b[1;33m\u001b[0m\u001b[0m\n\u001b[0m\u001b[0;32m      3\u001b[0m \u001b[0mprint\u001b[0m\u001b[1;33m(\u001b[0m\u001b[1;34m'What would happen if we pop by giving a specific range : '\u001b[0m\u001b[1;33m,\u001b[0m\u001b[0mx\u001b[0m\u001b[1;33m)\u001b[0m\u001b[1;33m\u001b[0m\u001b[1;33m\u001b[0m\u001b[0m\n",
      "\u001b[1;31mTypeError\u001b[0m: 'list' object cannot be interpreted as an integer"
     ]
    }
   ],
   "source": [
    "### Challenge\n",
    "x.pop(x[0:2])\n",
    "print('What would happen if we pop by giving a specific range : ',x)"
   ]
  },
  {
   "cell_type": "code",
   "execution_count": 23,
   "metadata": {},
   "outputs": [
    {
     "name": "stdout",
     "output_type": "stream",
     "text": [
      "Current List After Clear:  []\n"
     ]
    }
   ],
   "source": [
    "# clear()\n",
    "x = [1,2,{'key':'value'}]\n",
    "x.clear()\n",
    "print('Current List After Clear: ',x)"
   ]
  },
  {
   "cell_type": "code",
   "execution_count": 24,
   "metadata": {},
   "outputs": [
    {
     "name": "stdout",
     "output_type": "stream",
     "text": [
      "Current List After Delete:  [1, {'key': 'value'}, 3, 4, 5, 6]\n",
      "Current List After Delete:  [6]\n"
     ]
    }
   ],
   "source": [
    "# function: del\n",
    "x = [1,2,{'key':'value'},3,4,5,6]\n",
    "del x[1]\n",
    "print('Current List After Delete: ',x)\n",
    "\n",
    "del x[:-1]\n",
    "print('Current List After Delete: ',x)"
   ]
  },
  {
   "cell_type": "markdown",
   "metadata": {},
   "source": [
    "### The way to update an object and an item in the list\n",
    "---\n",
    "* Index"
   ]
  },
  {
   "cell_type": "code",
   "execution_count": 25,
   "metadata": {},
   "outputs": [
    {
     "name": "stdout",
     "output_type": "stream",
     "text": [
      "Current List After Index:  [0, 2, [{'key': 'value'}, 1]]\n",
      "Current List After Index:  [0, 2, [{'key': 'New Value'}, 1]]\n"
     ]
    }
   ],
   "source": [
    "# Index\n",
    "x = [1,2,[{'key':'value'},1]]\n",
    "x[0] = 0  \n",
    "print('Current List After Index: ',x)\n",
    "\n",
    "x[2][0]['key'] = 'New Value'\n",
    "print('Current List After Index: ',x)"
   ]
  },
  {
   "cell_type": "markdown",
   "metadata": {},
   "source": [
    "### The speacial function\n",
    "---\n",
    "* sort\n",
    "* reverse\n",
    "* count\n",
    "* copy"
   ]
  },
  {
   "cell_type": "code",
   "execution_count": 26,
   "metadata": {},
   "outputs": [
    {
     "name": "stdout",
     "output_type": "stream",
     "text": [
      "Current List After Sort:  [1, 1, 1, 1, 1, 2, 3, 4]\n",
      "Current List After Reverse:  [4, 3, 2, 1, 1, 1, 1, 1]\n",
      "Current List After Count:  5\n"
     ]
    }
   ],
   "source": [
    "# sort\n",
    "x = [1,1,1,1,1,2,3,4]\n",
    "x.sort()\n",
    "print('Current List After Sort: ',x)\n",
    "\n",
    "# reverse\n",
    "x.reverse()\n",
    "print('Current List After Reverse: ',x)\n",
    "\n",
    "# count\n",
    "num_1 = x.count(1)\n",
    "print('Current List After Count: ',num_1)"
   ]
  },
  {
   "cell_type": "code",
   "execution_count": 27,
   "metadata": {},
   "outputs": [
    {
     "name": "stdout",
     "output_type": "stream",
     "text": [
      "Current List Value of x:  [1, 2, 3, 4, 5]\n",
      "Current List After Reassign to variable y:  [1, 2, 3, 4, 5]\n",
      "Current List After Update the value of list x:  ['HERE', 2, 3, 4, 5]\n",
      "But Current List Value of list y:  ['HERE', 2, 3, 4, 5]\n"
     ]
    }
   ],
   "source": [
    "# copy\n",
    "## Situation 1\n",
    "x = [1,2,3,4,5]\n",
    "print('Current List Value of x: ',x)\n",
    "y = x\n",
    "print('Current List After Reassign to variable y: ',y)\n",
    "x[0] = \"HERE\"\n",
    "print('Current List After Update the value of list x: ',x)\n",
    "print('But Current List Value of list y: ',y)"
   ]
  },
  {
   "cell_type": "code",
   "execution_count": 28,
   "metadata": {},
   "outputs": [
    {
     "name": "stdout",
     "output_type": "stream",
     "text": [
      "Current List Value of x:  [1, 2, 3, 4, 5]\n",
      "Current List After Reassign to variable y:  [1, 2, 3, 4, 5]\n",
      "Current List After Update the value of list x:  ['HERE', 2, 3, 4, 5]\n",
      "But Current List Value of list y:  [1, 2, 3, 4, 5]\n"
     ]
    }
   ],
   "source": [
    "# copy\n",
    "## Situation 2\n",
    "x = [1,2,3,4,5]\n",
    "print('Current List Value of x: ',x)\n",
    "y = x.copy()\n",
    "print('Current List After Reassign to variable y: ',y)\n",
    "x[0] = \"HERE\"\n",
    "print('Current List After Update the value of list x: ',x)\n",
    "print('But Current List Value of list y: ',y)"
   ]
  },
  {
   "cell_type": "markdown",
   "metadata": {},
   "source": [
    "* ### Dictionary"
   ]
  },
  {
   "cell_type": "code",
   "execution_count": 29,
   "metadata": {},
   "outputs": [
    {
     "name": "stdout",
     "output_type": "stream",
     "text": [
      "Way 1 : {}\n",
      "Way 2 : {'key': 'value'}\n",
      "Way 3 : {'key1': 1, 'key2': 2}\n",
      "Way 4 : {'key1': 1, 'key2': 2}\n"
     ]
    }
   ],
   "source": [
    "# Generate a Dictionary\n",
    "way1 = dict()\n",
    "way2 = {'key':'value'}\n",
    "way3 = dict([('key1',1),('key2',2)])\n",
    "way4 = dict(key1=1,key2=2)\n",
    "\n",
    "print('Way 1 :',way1)\n",
    "print('Way 2 :',way2)\n",
    "print('Way 3 :',way3)\n",
    "print('Way 4 :',way4)"
   ]
  },
  {
   "cell_type": "code",
   "execution_count": 30,
   "metadata": {},
   "outputs": [
    {
     "name": "stdout",
     "output_type": "stream",
     "text": [
      "Show the key items :  dict_keys(['key1', 'key2', 'key3'])\n",
      "Show the value items :  dict_values([1, 2, 3])\n",
      "Show the key items :  dict_items([('key1', 1), ('key2', 2), ('key3', 3)])\n",
      "keys function :  <class 'dict_keys'>\n",
      "values function :  <class 'dict_values'>\n",
      "items function :  <class 'dict_items'>\n"
     ]
    }
   ],
   "source": [
    "x = {'key1' : 1,'key2' : 2,'key3' : 3}\n",
    "# Only Get The Keys\n",
    "keys = x.keys()\n",
    "print('Show the key items : ',keys)\n",
    "\n",
    "# Only Get The Values\n",
    "values = x.values()\n",
    "print('Show the value items : ',values)\n",
    "\n",
    "# Get the key value in the list of tuple\n",
    "key_value = x.items()\n",
    "print('Show the key items : ',key_value)\n",
    "\n",
    "# Show all the data type of return function\n",
    "print('keys function : ',type(keys))\n",
    "print('values function : ',type(values))\n",
    "print('items function : ',type(key_value))"
   ]
  },
  {
   "cell_type": "markdown",
   "metadata": {},
   "source": [
    "### The way to add / update an object and an item in the dictionary\n",
    "---\n",
    "* Reassign\n",
    "* update"
   ]
  },
  {
   "cell_type": "code",
   "execution_count": 31,
   "metadata": {},
   "outputs": [
    {
     "name": "stdout",
     "output_type": "stream",
     "text": [
      "Current Dict:  {'key1': 1}\n",
      "Current Dict After Reassign :  {'key1': 1, 'key2': 2}\n",
      "Current Dict After Update :  {'key1': 1, 'key2': 1}\n"
     ]
    }
   ],
   "source": [
    "# Reassign\n",
    "x = {'key1':1}\n",
    "print('Current Dict: ',x)\n",
    "x['key2'] = 2\n",
    "print('Current Dict After Reassign : ',x)\n",
    "x['key2'] = 1\n",
    "print('Current Dict After Update : ',x)"
   ]
  },
  {
   "cell_type": "code",
   "execution_count": 32,
   "metadata": {},
   "outputs": [
    {
     "name": "stdout",
     "output_type": "stream",
     "text": [
      "Current Dict:  {'key1': 1}\n",
      "Current Dict After Reassign:  {'key1': 1, 'key2': 2}\n",
      "Current Dict After Update:  {'key1': 1, 'key2': 1}\n"
     ]
    }
   ],
   "source": [
    "# update(Dict)\n",
    "x = {'key1':1}\n",
    "print('Current Dict: ',x)\n",
    "x.update({'key2':2})\n",
    "print('Current Dict After Reassign: ',x)\n",
    "x.update({'key2':1})\n",
    "print('Current Dict After Update: ',x)"
   ]
  },
  {
   "cell_type": "code",
   "execution_count": 33,
   "metadata": {},
   "outputs": [
    {
     "name": "stdout",
     "output_type": "stream",
     "text": [
      "Current Dict After Update :  {'key1': 1, 'key2': 3}\n"
     ]
    }
   ],
   "source": [
    "### Challenge \n",
    "x = {'key1':1}\n",
    "x.update([('key2',3)]) # List of tuple\n",
    "print('Current Dict After Update : ',x)"
   ]
  },
  {
   "cell_type": "markdown",
   "metadata": {},
   "source": [
    "### The way to delete an object and an item in the dictionary\n",
    "---\n",
    "* pop\n",
    "* popitem\n",
    "* clear\n",
    "* function: del"
   ]
  },
  {
   "cell_type": "code",
   "execution_count": 34,
   "metadata": {},
   "outputs": [
    {
     "name": "stdout",
     "output_type": "stream",
     "text": [
      "Current Dict After Pop :  {'key2': 2}\n"
     ]
    }
   ],
   "source": [
    "# pop(KEY)\n",
    "x = {'key1':1,'key2':2}\n",
    "x.pop('key1')\n",
    "print('Current Dict After Pop : ',x)"
   ]
  },
  {
   "cell_type": "code",
   "execution_count": 35,
   "metadata": {},
   "outputs": [
    {
     "name": "stdout",
     "output_type": "stream",
     "text": [
      "Current Dict After Popitem :  {'key1': 1}\n"
     ]
    }
   ],
   "source": [
    "# popitem()\n",
    "x = {'key1':1,'key2':2}\n",
    "x.popitem()\n",
    "print('Current Dict After Popitem : ',x)"
   ]
  },
  {
   "cell_type": "code",
   "execution_count": 36,
   "metadata": {},
   "outputs": [
    {
     "name": "stdout",
     "output_type": "stream",
     "text": [
      "Current Dict After Clear :  {}\n"
     ]
    }
   ],
   "source": [
    "# clear()\n",
    "x = {'key1':1,'key2':2}\n",
    "x.clear()\n",
    "print('Current Dict After Clear : ',x)"
   ]
  },
  {
   "cell_type": "code",
   "execution_count": 37,
   "metadata": {},
   "outputs": [
    {
     "name": "stdout",
     "output_type": "stream",
     "text": [
      "Current Dict After Popitem :  {'key2': 2}\n"
     ]
    }
   ],
   "source": [
    "# function: del\n",
    "x = {'key1':1,'key2':2}\n",
    "del x['key1']\n",
    "print('Current Dict After Popitem : ',x)"
   ]
  },
  {
   "cell_type": "markdown",
   "metadata": {},
   "source": [
    "### The speacial function\n",
    "---\n",
    "* get\n",
    "* fromkeys\n",
    "* setdefault"
   ]
  },
  {
   "cell_type": "code",
   "execution_count": 38,
   "metadata": {},
   "outputs": [
    {
     "name": "stdout",
     "output_type": "stream",
     "text": [
      "Current Dict After Get :  1\n"
     ]
    }
   ],
   "source": [
    "# get(KEY)\n",
    "x = {'key1':1,'key2':2}\n",
    "result = x.get('key1')\n",
    "print('Current Dict After Get : ',result)"
   ]
  },
  {
   "cell_type": "code",
   "execution_count": 40,
   "metadata": {},
   "outputs": [
    {
     "name": "stdout",
     "output_type": "stream",
     "text": [
      "Current Dict After Fromkeys :  {'key1': (0, 0, 0), 'key2': (0, 0, 0), 'key3': (0, 0, 0)}\n"
     ]
    }
   ],
   "source": [
    "# fromkeys\n",
    "x = 'key1','key2','key3'\n",
    "y = 0,0,0\n",
    "z = dict.fromkeys(x,y)\n",
    "print('Current Dict After Fromkeys : ',z)"
   ]
  },
  {
   "cell_type": "code",
   "execution_count": 41,
   "metadata": {},
   "outputs": [
    {
     "name": "stdout",
     "output_type": "stream",
     "text": [
      "Current Dict After setdefault :  forex\n",
      "Current Dict :  {'type': 'forex', 'pairing': 'XAUUSD', 'year': 1964}\n"
     ]
    }
   ],
   "source": [
    "# setdefault(KEY,VALUE)\n",
    "## Situation 1\n",
    "data = {\n",
    "  \"type\": \"forex\",\n",
    "  \"pairing\": \"XAUUSD\",\n",
    "  \"year\": 1964\n",
    "}\n",
    "x = data.setdefault(\"type\", \"stock\")\n",
    "print('Current Dict After setdefault : ',x)\n",
    "print('Current Dict : ',data)"
   ]
  },
  {
   "cell_type": "code",
   "execution_count": 42,
   "metadata": {},
   "outputs": [
    {
     "name": "stdout",
     "output_type": "stream",
     "text": [
      "Current Dict After setdefault :  stock\n",
      "Current Dict :  {'pairing': 'XAUUSD', 'year': 1964, 'type': 'stock'}\n"
     ]
    }
   ],
   "source": [
    "# setdefault(KEY,VALUE)\n",
    "## Situation 2\n",
    "data = {\n",
    "  \"pairing\": \"XAUUSD\",\n",
    "  \"year\": 1964\n",
    "}\n",
    "x = data.setdefault(\"type\", \"stock\")\n",
    "print('Current Dict After setdefault : ',x)\n",
    "print('Current Dict : ',data)"
   ]
  },
  {
   "cell_type": "markdown",
   "metadata": {},
   "source": [
    "* ### Set"
   ]
  },
  {
   "cell_type": "code",
   "execution_count": 43,
   "metadata": {},
   "outputs": [
    {
     "name": "stdout",
     "output_type": "stream",
     "text": [
      "Way 1 : {'d', 'a', 'b', 'r', 'c'}\n",
      "Way 2 : {'a', 'c', 'm', 'l', 'z'}\n",
      "Way 3 : {1, 2, 3, 4}\n"
     ]
    }
   ],
   "source": [
    "# Generate a set\n",
    "way1 = set('abracadabra')\n",
    "way2 = set('alacazam')\n",
    "way3 = {1,2,3,3,3,3,4}\n",
    "print('Way 1 :',way1)\n",
    "print('Way 2 :',way2)\n",
    "print('Way 3 :',way3)"
   ]
  },
  {
   "cell_type": "code",
   "execution_count": 44,
   "metadata": {},
   "outputs": [
    {
     "name": "stdout",
     "output_type": "stream",
     "text": [
      "{'r', 'd', 'b'}\n"
     ]
    }
   ],
   "source": [
    "# letters in way1 but not in way2\n",
    "print(way1-way2)"
   ]
  },
  {
   "cell_type": "code",
   "execution_count": 45,
   "metadata": {},
   "outputs": [
    {
     "name": "stdout",
     "output_type": "stream",
     "text": [
      "{'d', 'a', 'b', 'r', 'c', 'm', 'l', 'z'}\n"
     ]
    }
   ],
   "source": [
    "# letters in way1 or way2 or both\n",
    "print(way1 | way2)"
   ]
  },
  {
   "cell_type": "code",
   "execution_count": 46,
   "metadata": {},
   "outputs": [
    {
     "name": "stdout",
     "output_type": "stream",
     "text": [
      "{'c', 'a'}\n"
     ]
    }
   ],
   "source": [
    "# letters in both way1 and way2\n",
    "print(way1 & way2)"
   ]
  },
  {
   "cell_type": "code",
   "execution_count": 47,
   "metadata": {},
   "outputs": [
    {
     "name": "stdout",
     "output_type": "stream",
     "text": [
      "{'m', 'r', 'd', 'l', 'b', 'z'}\n"
     ]
    }
   ],
   "source": [
    "# letters in way1 or way2 but not both\n",
    "print(way1^way2)"
   ]
  },
  {
   "cell_type": "markdown",
   "metadata": {},
   "source": [
    "# Operator\n",
    "* Arithmetic operators 算數運算符\n",
    "* Assignment operators 賦值運算符\n",
    "* Comparison operators 比較（關係）運算符\n",
    "* Logical operators    邏輯運算符\n",
    "* Identity operators   身份運算符\n",
    "* Membership operators 成員運算符\n",
    "* Bitwise operators    運算符優先級"
   ]
  },
  {
   "cell_type": "markdown",
   "metadata": {},
   "source": [
    "* ### Arithmetic operators 算數運算符"
   ]
  },
  {
   "cell_type": "code",
   "execution_count": 48,
   "metadata": {},
   "outputs": [
    {
     "name": "stdout",
     "output_type": "stream",
     "text": [
      "加法 1+3 =  4\n",
      "減法 1-2 =  -1\n",
      "乘法 2*3 =  6\n",
      "除法 4/2 =  2.0\n",
      "除法（取整數） 3//2 =  1\n",
      "除法（取餘數） 3//2 =  1\n",
      "冪 : 2**3 =  8\n"
     ]
    }
   ],
   "source": [
    "w,x,y,z = 1,2,3,4\n",
    "print('加法 1+3 = ',w+y)\n",
    "print('減法 1-2 = ',w-x)\n",
    "print('乘法 2*3 = ',x*y)\n",
    "print('除法 4/2 = ',z/x)\n",
    "print('除法（取整數） 3//2 = ',y//x)\n",
    "print('除法（取餘數） 3//2 = ',y%x)\n",
    "print('冪 : 2**3 = ',x**y)"
   ]
  },
  {
   "cell_type": "markdown",
   "metadata": {},
   "source": [
    "* ### Comparison operators 比較（關係）運算符"
   ]
  },
  {
   "cell_type": "code",
   "execution_count": 49,
   "metadata": {},
   "outputs": [
    {
     "name": "stdout",
     "output_type": "stream",
     "text": [
      "等於 : 2 == 2  True\n",
      "不等於 : 1 != 2  True\n",
      "大於 : 1 > 4  False\n",
      "小於 : 1 < 4  True\n",
      "大於等於 : 3 >= 2  True\n",
      "小於等於 : 3 <= 2  True\n"
     ]
    }
   ],
   "source": [
    "w,x1,x2,y,z = 1,2,2,3,4 ## Output is a Boolean\n",
    "print('等於 : 2 == 2 ',x1 == x2)\n",
    "print('不等於 : 1 != 2 ',w != x1)\n",
    "print('大於 : 1 > 4 ',w > z)\n",
    "print('小於 : 1 < 4 ',w < z)\n",
    "print('大於等於 : 3 >= 2 ',y >= x2)\n",
    "print('小於等於 : 3 <= 2 ',y >= x2)"
   ]
  },
  {
   "cell_type": "markdown",
   "metadata": {},
   "source": [
    "* ### Assignment operators 賦值運算符"
   ]
  },
  {
   "cell_type": "code",
   "execution_count": 50,
   "metadata": {},
   "outputs": [
    {
     "name": "stdout",
     "output_type": "stream",
     "text": [
      "简单的赋值运算符 - c 的值为： 31\n",
      "加法赋值运算符 - c 的值为： 52\n",
      "乘法赋值运算符 - c 的值为： 1092\n",
      "除法赋值运算符 - c 的值为： 52.0\n",
      "取模赋值运算符 - c 的值为： 2\n",
      "幂赋值运算符 - c 的值为： 2097152\n",
      "取整除赋值运算符 - c 的值为： 99864\n"
     ]
    }
   ],
   "source": [
    "a,b,c = 21,10,0\n",
    " \n",
    "c = a + b\n",
    "print(\"简单的赋值运算符 - c 的值为：\", c)\n",
    " \n",
    "c += a\n",
    "print(\"加法赋值运算符 - c 的值为：\", c) \n",
    " \n",
    "c *= a\n",
    "print(\"乘法赋值运算符 - c 的值为：\", c) \n",
    " \n",
    "c /= a \n",
    "print(\"除法赋值运算符 - c 的值为：\", c)\n",
    " \n",
    "c = 2\n",
    "c %= a\n",
    "print(\"取模赋值运算符 - c 的值为：\", c)\n",
    " \n",
    "c **= a\n",
    "print(\"幂赋值运算符 - c 的值为：\", c)\n",
    " \n",
    "c //= a\n",
    "print(\"取整除赋值运算符 - c 的值为：\", c)"
   ]
  },
  {
   "cell_type": "markdown",
   "metadata": {},
   "source": [
    "* ### Logical operators 邏輯運算符"
   ]
  },
  {
   "cell_type": "code",
   "execution_count": 51,
   "metadata": {},
   "outputs": [
    {
     "name": "stdout",
     "output_type": "stream",
     "text": [
      "And(Situation 1) ：  True\n",
      "And(Situation 2) ：  False\n",
      "Or(Situation 1) ：  True\n",
      "Or(Situation 2) ：  True\n",
      "Not(Situation 1) :  False\n",
      "Not(Situation 2) :  True\n"
     ]
    }
   ],
   "source": [
    "true,false = True,False\n",
    "print('And(Situation 1) ： ',true and true)\n",
    "print('And(Situation 2) ： ',true and false)\n",
    "\n",
    "print('Or(Situation 1) ： ',true or true)\n",
    "print('Or(Situation 2) ： ',true or false)\n",
    "\n",
    "print('Not(Situation 1) : ',not(true or true))\n",
    "print('Not(Situation 2) : ',not(false or false))"
   ]
  },
  {
   "cell_type": "markdown",
   "metadata": {},
   "source": [
    "* ### Identity operators   身份運算符"
   ]
  },
  {
   "cell_type": "code",
   "execution_count": 52,
   "metadata": {},
   "outputs": [
    {
     "name": "stdout",
     "output_type": "stream",
     "text": [
      "False\n",
      "True\n"
     ]
    }
   ],
   "source": [
    "w,x,y,z = 20.0,20,20,'20'\n",
    "# x = 10\n",
    "print(w is x)\n",
    "print(x is y)"
   ]
  },
  {
   "cell_type": "code",
   "execution_count": 53,
   "metadata": {},
   "outputs": [
    {
     "name": "stdout",
     "output_type": "stream",
     "text": [
      "140722759809408 140722759809408\n"
     ]
    }
   ],
   "source": [
    "print(id(x),id(y))"
   ]
  },
  {
   "cell_type": "markdown",
   "metadata": {},
   "source": [
    "* ### Membership operators 成員運算符"
   ]
  },
  {
   "cell_type": "code",
   "execution_count": 54,
   "metadata": {},
   "outputs": [
    {
     "name": "stdout",
     "output_type": "stream",
     "text": [
      "In : Is 1 in list x  True\n",
      "Not In : Is 1 in list x  False\n"
     ]
    }
   ],
   "source": [
    "x = [1,2,3]\n",
    "\n",
    "print('In : Is 1 in list x ',1 in x)\n",
    "print('Not In : Is 1 in list x ',1 not in x)"
   ]
  },
  {
   "cell_type": "markdown",
   "metadata": {},
   "source": [
    "* ### Bitwise operators 運算符優先級\n",
    "請參考此[鏈接](https://www.runoob.com/python/python-operators.html#ysf8)!"
   ]
  },
  {
   "cell_type": "markdown",
   "metadata": {},
   "source": [
    "## Built-in Functions"
   ]
  },
  {
   "cell_type": "code",
   "execution_count": null,
   "metadata": {},
   "outputs": [],
   "source": []
  }
 ],
 "metadata": {
  "kernelspec": {
   "display_name": "Python 3",
   "language": "python",
   "name": "python3"
  },
  "language_info": {
   "codemirror_mode": {
    "name": "ipython",
    "version": 3
   },
   "file_extension": ".py",
   "mimetype": "text/x-python",
   "name": "python",
   "nbconvert_exporter": "python",
   "pygments_lexer": "ipython3",
   "version": "3.8.8"
  }
 },
 "nbformat": 4,
 "nbformat_minor": 4
}

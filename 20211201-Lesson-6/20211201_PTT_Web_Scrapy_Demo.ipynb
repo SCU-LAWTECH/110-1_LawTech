{
 "cells": [
  {
   "cell_type": "markdown",
   "id": "23b57c9e",
   "metadata": {},
   "source": [
    "## STEP 1: 套件匯入"
   ]
  },
  {
   "cell_type": "code",
   "execution_count": null,
   "id": "b22630ee",
   "metadata": {},
   "outputs": [],
   "source": []
  },
  {
   "cell_type": "markdown",
   "id": "9b175042",
   "metadata": {},
   "source": [
    "## STEP 2: 請求 PTT Law 版"
   ]
  },
  {
   "cell_type": "markdown",
   "id": "5090b9cd",
   "metadata": {},
   "source": [
    "嘗試請求 PPT Law 版，確認響應內容為爬蟲目標內容後，將 HTML 程式碼代入並初始化定位工具。"
   ]
  },
  {
   "cell_type": "code",
   "execution_count": null,
   "id": "044e83a6",
   "metadata": {},
   "outputs": [],
   "source": []
  },
  {
   "cell_type": "code",
   "execution_count": null,
   "id": "b0c52380",
   "metadata": {},
   "outputs": [],
   "source": []
  },
  {
   "cell_type": "markdown",
   "id": "cd967a4e",
   "metadata": {},
   "source": [
    "## STEP 3: 利用 XPATH 語言解析 HTML "
   ]
  },
  {
   "cell_type": "markdown",
   "id": "6428285d",
   "metadata": {},
   "source": [
    "本次任務僅需爬取 PPT Law 版的第 1 頁與每個討論項目的留言，因此在嘗試請求 PPT Law 版成功後，可以發現請求內容與爬蟲內容相符，但每項討論的留言都埋在個別討論分頁內，因此接下來實作流程將拆成兩個部分：\n",
    "\n",
    "* 第 1 部分：在 PTT Law 版爬取每個討論項目連接\n",
    "\n",
    "* 第 2 部分：藉由爬取每個討論項目的連接，迴圈個別進行主題、發問者、日期、留言資訊等爬蟲"
   ]
  },
  {
   "cell_type": "code",
   "execution_count": null,
   "id": "40be2543",
   "metadata": {},
   "outputs": [],
   "source": []
  },
  {
   "cell_type": "code",
   "execution_count": null,
   "id": "ad8282c9",
   "metadata": {},
   "outputs": [],
   "source": []
  },
  {
   "cell_type": "markdown",
   "id": "a32ba769",
   "metadata": {},
   "source": [
    "## STEP 4: 匯出爬蟲結果"
   ]
  },
  {
   "cell_type": "code",
   "execution_count": null,
   "id": "6bedaffe",
   "metadata": {},
   "outputs": [],
   "source": []
  },
  {
   "cell_type": "code",
   "execution_count": null,
   "id": "0049c33c",
   "metadata": {},
   "outputs": [],
   "source": []
  },
  {
   "cell_type": "code",
   "execution_count": null,
   "id": "18ef59ef",
   "metadata": {},
   "outputs": [],
   "source": []
  }
 ],
 "metadata": {
  "kernelspec": {
   "display_name": "Python 3",
   "language": "python",
   "name": "python3"
  },
  "language_info": {
   "codemirror_mode": {
    "name": "ipython",
    "version": 3
   },
   "file_extension": ".py",
   "mimetype": "text/x-python",
   "name": "python",
   "nbconvert_exporter": "python",
   "pygments_lexer": "ipython3",
   "version": "3.8.8"
  }
 },
 "nbformat": 4,
 "nbformat_minor": 5
}

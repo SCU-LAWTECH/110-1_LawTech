{
 "cells": [
  {
   "cell_type": "markdown",
   "id": "23b57c9e",
   "metadata": {},
   "source": [
    "## STEP 1: 套件匯入"
   ]
  },
  {
   "cell_type": "code",
   "execution_count": 1,
   "id": "b22630ee",
   "metadata": {},
   "outputs": [],
   "source": [
    "import requests # HTTP 請求套件\n",
    "import pandas as pd # 資料清整與匯出套件\n",
    "from lxml import etree # XPATH 定位套件"
   ]
  },
  {
   "cell_type": "markdown",
   "id": "9b175042",
   "metadata": {},
   "source": [
    "## STEP 2: 請求 PTT Law 版"
   ]
  },
  {
   "cell_type": "markdown",
   "id": "5090b9cd",
   "metadata": {},
   "source": [
    "嘗試請求 PPT Law 版，確認響應內容為爬蟲目標內容後，將 HTML 程式碼代入並初始化定位工具。"
   ]
  },
  {
   "cell_type": "code",
   "execution_count": 2,
   "id": "044e83a6",
   "metadata": {},
   "outputs": [
    {
     "name": "stdout",
     "output_type": "stream",
     "text": [
      "200\n"
     ]
    }
   ],
   "source": [
    "## PTT Law 版連接\n",
    "link = \"https://www.ptt.cc/bbs/LAW/index.html\"\n",
    "\n",
    "## 請求 PTT Law 版第 1 頁\n",
    "res = requests.get(link)\n",
    "\n",
    "## 查看請求的狀態碼\n",
    "print(res.status_code)"
   ]
  },
  {
   "cell_type": "code",
   "execution_count": 15,
   "id": "b0c52380",
   "metadata": {},
   "outputs": [],
   "source": [
    "## 初始化 XPATH 定位工具的套件\n",
    "raw_data = etree.HTML(res.text)"
   ]
  },
  {
   "cell_type": "markdown",
   "id": "cd967a4e",
   "metadata": {},
   "source": [
    "## STEP 3: 利用 XPATH 語言解析 HTML "
   ]
  },
  {
   "cell_type": "markdown",
   "id": "6428285d",
   "metadata": {},
   "source": [
    "本次任務僅需爬取 PPT Law 版的第 1 頁與每個討論項目的留言，因此在嘗試請求 PPT Law 版成功後，可以發現請求內容與爬蟲內容相符，但每項討論的留言都埋在個別討論分頁內，因此接下來實作流程將拆成兩個部分：\n",
    "\n",
    "* 第 1 部分：在 PTT Law 版爬取每個討論項目連接\n",
    "\n",
    "* 第 2 部分：藉由爬取每個討論項目的連接，迴圈個別進行主題、發問者、日期、留言資訊等爬蟲"
   ]
  },
  {
   "cell_type": "code",
   "execution_count": 17,
   "id": "40be2543",
   "metadata": {},
   "outputs": [
    {
     "name": "stdout",
     "output_type": "stream",
     "text": [
      "Current Link:  /bbs/LAW/M.1639278563.A.F42.html\n",
      "Current Link:  /bbs/LAW/M.1639292679.A.A1C.html\n",
      "Current Link:  /bbs/LAW/M.1639313357.A.B30.html\n",
      "Current Link:  /bbs/LAW/M.1639355860.A.0F9.html\n",
      "Current Link:  /bbs/LAW/M.1639384334.A.868.html\n",
      "Current Link:  /bbs/LAW/M.1639386649.A.8CD.html\n",
      "Current Link:  /bbs/LAW/M.1639461127.A.C01.html\n",
      "Current Link:  /bbs/LAW/M.1139760328.A.8DB.html\n",
      "Current Link:  /bbs/LAW/M.1629653620.A.1E6.html\n",
      "Current Link:  /bbs/LAW/M.1629654896.A.827.html\n",
      "Current Link:  /bbs/LAW/M.1629656635.A.206.html\n",
      "Current Link:  /bbs/LAW/M.1635743148.A.0A7.html\n"
     ]
    }
   ],
   "source": [
    "# 第 1 部分\n",
    "## 了解 PTT Law 版第 1 頁的總討論項目數量\n",
    "total_posts = len(raw_data.xpath(\"//div[@class='title']\"))\n",
    "## 藉由建立 links 的 List，將爬取的個別討論項目連接保存\n",
    "links = []\n",
    "\n",
    "## 利用 Range 進行迴圈，把個別討論連接保存到 links 參數中\n",
    "for no_post in range(1,total_posts+1):\n",
    "    ## link 為個別討論項目的連接，因此每輪的迴圈將覆蓋上一次迴圈的值\n",
    "    link = raw_data.xpath(f\"(//div[@class='title']//a)[{no_post}]/@href\")[0]\n",
    "    print(\"Current Link: \",link)\n",
    "    links.append(link)"
   ]
  },
  {
   "cell_type": "code",
   "execution_count": 24,
   "id": "ad8282c9",
   "metadata": {},
   "outputs": [],
   "source": [
    "# 第 2 部分\n",
    "## 在爬完個別討論項目後會發現，連接不是完整的，因此宣告 base_link 參數來補上前段\n",
    "base_link = \"https://www.ptt.cc\"\n",
    "## 在進行個別項目分頁的爬蟲時，將爬到的所有資訊以 List of Dict 的形式儲存至 data_to_df 參數中\n",
    "data_to_df = []\n",
    "\n",
    "## 由於用 1 個迴圈無法爬取所有留言，因此使用兩個迴圈（別名：巢狀迴圈）的方式進行\n",
    "for link in links:\n",
    "    ## 針對個別討論項目進行分頁的請求\n",
    "    res_each = requests.get(base_link+link)\n",
    "    ## 將響應的結果代入 XPATH 定位工具並初始化\n",
    "    raw_data_each = etree.HTML(res_each.text)\n",
    "    \n",
    "    ## 為了爬取個別討論項目分頁中的所有留言，因此需要透過迴圈完成，在這之前計算該分頁的總留言數\n",
    "    ## 在撰寫程式中，可以使用 len 來為 raw_data_each.xpath(\"(//span[@class='f3 hl push-userid'])\")\n",
    "    ## 返回的 list 進行長度計算，即 list 的長度等於總留言數\n",
    "    total_comment = len(raw_data_each.xpath(\"(//span[@class='f3 hl push-userid'])\"))\n",
    "    ## 用於儲存該輪討論項目中的所有留言，將爬到的所有留言以 List of Dict 的形式儲存至 comments 參數中\n",
    "    comments = []\n",
    "    \n",
    "    ## 利用計算出的總留言數進行迴圈\n",
    "    for no_comment in range(1,total_comment+1):\n",
    "        ## 每輪迴圈即為單項留言，並以迴圈的方式完成所有留言爬取\n",
    "        ## 將單項留言中的用戶、留言內容與留言時間保存到 comments 參數中\n",
    "        comments.append({\n",
    "            \"author\" : raw_data_each.xpath(f\"(//span[@class='f3 hl push-userid'])[{no_comment}]/text()\")[0],\n",
    "            \"text\" : raw_data_each.xpath(f\"(//span[@class='f3 push-content'])[{no_comment}]/text()\")[0],\n",
    "            \"time\" : raw_data_each.xpath(f\"(//span[@class='push-ipdatetime'])[{no_comment}]/text()\")[0]\n",
    "        })\n",
    "    \n",
    "    ## 當該輪迴圈在進行完上面的迴圈所有留言爬取後，將討論項目分頁的連接、發佈者、發佈內容、發佈時間、所有留言資訊\n",
    "    ## 儲存至以 Dict 的形式儲存至 data_to_df 中\n",
    "    data_to_df.append({\n",
    "        \"link\" : base_link+link,\n",
    "        \"writer\" : raw_data_each.xpath(\"(//span[@class='article-meta-value'])[1]/text()\")[0],\n",
    "        \"title\" : raw_data_each.xpath(\"(//span[@class='article-meta-value'])[3]/text()\")[0],\n",
    "        \"time\" :  raw_data_each.xpath(\"(//span[@class='article-meta-value'])[4]/text()\")[0],\n",
    "        \"comments\" : comments ## 因此每輪的迴圈將覆蓋上一次迴圈的值\n",
    "    })"
   ]
  },
  {
   "cell_type": "markdown",
   "id": "a32ba769",
   "metadata": {},
   "source": [
    "## STEP 4: 匯出爬蟲結果"
   ]
  },
  {
   "cell_type": "code",
   "execution_count": 28,
   "id": "6bedaffe",
   "metadata": {},
   "outputs": [],
   "source": [
    "## 使用 pandas 套件，將儲存在 data_to_df 爬取的所有討論項目與其內容代入 DataFrame function，\n",
    "## 轉化成 Table 的形式後即可透過匯出語法成果匯出資料\n",
    "df = pd.DataFrame(data_to_df)\n",
    "## 將爬取的內容以 csv（excel 格式）匯出\n",
    "df.to_csv(\"20211201_Web_Scrapy_Final_Data.csv\",encoding='utf-8')"
   ]
  },
  {
   "cell_type": "code",
   "execution_count": 29,
   "id": "6dd0a7a9",
   "metadata": {},
   "outputs": [
    {
     "data": {
      "text/html": [
       "<div>\n",
       "<style scoped>\n",
       "    .dataframe tbody tr th:only-of-type {\n",
       "        vertical-align: middle;\n",
       "    }\n",
       "\n",
       "    .dataframe tbody tr th {\n",
       "        vertical-align: top;\n",
       "    }\n",
       "\n",
       "    .dataframe thead th {\n",
       "        text-align: right;\n",
       "    }\n",
       "</style>\n",
       "<table border=\"1\" class=\"dataframe\">\n",
       "  <thead>\n",
       "    <tr style=\"text-align: right;\">\n",
       "      <th></th>\n",
       "      <th>link</th>\n",
       "      <th>writer</th>\n",
       "      <th>title</th>\n",
       "      <th>time</th>\n",
       "      <th>comments</th>\n",
       "    </tr>\n",
       "  </thead>\n",
       "  <tbody>\n",
       "    <tr>\n",
       "      <th>0</th>\n",
       "      <td>https://www.ptt.cc/bbs/LAW/M.1639278563.A.F42....</td>\n",
       "      <td>nextsolar (昨天的月亮)</td>\n",
       "      <td>[問題] 債務人行蹤不行 法院要如何拘提呢？</td>\n",
       "      <td>Sun Dec 12 11:09:21 2021</td>\n",
       "      <td>[{'author': 'maniaque', 'text': ': 條文有寫啊,執達員執行...</td>\n",
       "    </tr>\n",
       "    <tr>\n",
       "      <th>1</th>\n",
       "      <td>https://www.ptt.cc/bbs/LAW/M.1639292679.A.A1C....</td>\n",
       "      <td>opasdaddsdd (bluesky)</td>\n",
       "      <td>[問題] 工安意外死亡賠償</td>\n",
       "      <td>Sun Dec 12 15:04:37 2021</td>\n",
       "      <td>[{'author': 'maniaque', 'text': ': 只要是合法車輛,就算沒...</td>\n",
       "    </tr>\n",
       "    <tr>\n",
       "      <th>2</th>\n",
       "      <td>https://www.ptt.cc/bbs/LAW/M.1639313357.A.B30....</td>\n",
       "      <td>obillyo (綠島)</td>\n",
       "      <td>[問題] 關於不動產設定抵押權問題</td>\n",
       "      <td>Sun Dec 12 20:49:15 2021</td>\n",
       "      <td>[{'author': 'obillyo', 'text': ': 更正錯字：銀行為第一順位...</td>\n",
       "    </tr>\n",
       "    <tr>\n",
       "      <th>3</th>\n",
       "      <td>https://www.ptt.cc/bbs/LAW/M.1639355860.A.0F9....</td>\n",
       "      <td>szg0417 (藍莓燒)</td>\n",
       "      <td>[問題] 三審有必要再寫書狀嗎!?</td>\n",
       "      <td>Mon Dec 13 08:37:38 2021</td>\n",
       "      <td>[{'author': 'stevenchiang', 'text': ': 三審法律審，只...</td>\n",
       "    </tr>\n",
       "    <tr>\n",
       "      <th>4</th>\n",
       "      <td>https://www.ptt.cc/bbs/LAW/M.1639384334.A.868....</td>\n",
       "      <td>bcs (= =\"frailty..gggg XD)</td>\n",
       "      <td>[問題]冷氣商或冷氣業務發存證</td>\n",
       "      <td>Mon Dec 13 16:32:11 2021</td>\n",
       "      <td>[{'author': 'KKyosuke', 'text': ': 先再問一次原因  問完...</td>\n",
       "    </tr>\n",
       "  </tbody>\n",
       "</table>\n",
       "</div>"
      ],
      "text/plain": [
       "                                                link  \\\n",
       "0  https://www.ptt.cc/bbs/LAW/M.1639278563.A.F42....   \n",
       "1  https://www.ptt.cc/bbs/LAW/M.1639292679.A.A1C....   \n",
       "2  https://www.ptt.cc/bbs/LAW/M.1639313357.A.B30....   \n",
       "3  https://www.ptt.cc/bbs/LAW/M.1639355860.A.0F9....   \n",
       "4  https://www.ptt.cc/bbs/LAW/M.1639384334.A.868....   \n",
       "\n",
       "                       writer                   title  \\\n",
       "0           nextsolar (昨天的月亮)  [問題] 債務人行蹤不行 法院要如何拘提呢？   \n",
       "1       opasdaddsdd (bluesky)           [問題] 工安意外死亡賠償   \n",
       "2                obillyo (綠島)       [問題] 關於不動產設定抵押權問題   \n",
       "3               szg0417 (藍莓燒)       [問題] 三審有必要再寫書狀嗎!?   \n",
       "4  bcs (= =\"frailty..gggg XD)         [問題]冷氣商或冷氣業務發存證   \n",
       "\n",
       "                       time                                           comments  \n",
       "0  Sun Dec 12 11:09:21 2021  [{'author': 'maniaque', 'text': ': 條文有寫啊,執達員執行...  \n",
       "1  Sun Dec 12 15:04:37 2021  [{'author': 'maniaque', 'text': ': 只要是合法車輛,就算沒...  \n",
       "2  Sun Dec 12 20:49:15 2021  [{'author': 'obillyo', 'text': ': 更正錯字：銀行為第一順位...  \n",
       "3  Mon Dec 13 08:37:38 2021  [{'author': 'stevenchiang', 'text': ': 三審法律審，只...  \n",
       "4  Mon Dec 13 16:32:11 2021  [{'author': 'KKyosuke', 'text': ': 先再問一次原因  問完...  "
      ]
     },
     "execution_count": 29,
     "metadata": {},
     "output_type": "execute_result"
    }
   ],
   "source": [
    "## 查看前 5 行的資料\n",
    "df.head()"
   ]
  },
  {
   "cell_type": "code",
   "execution_count": null,
   "id": "0049c33c",
   "metadata": {},
   "outputs": [],
   "source": []
  }
 ],
 "metadata": {
  "kernelspec": {
   "display_name": "Python 3",
   "language": "python",
   "name": "python3"
  },
  "language_info": {
   "codemirror_mode": {
    "name": "ipython",
    "version": 3
   },
   "file_extension": ".py",
   "mimetype": "text/x-python",
   "name": "python",
   "nbconvert_exporter": "python",
   "pygments_lexer": "ipython3",
   "version": "3.8.8"
  }
 },
 "nbformat": 4,
 "nbformat_minor": 5
}
